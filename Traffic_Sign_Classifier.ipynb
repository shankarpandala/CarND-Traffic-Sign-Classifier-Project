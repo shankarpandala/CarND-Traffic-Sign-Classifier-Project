{
 "cells": [
  {
   "cell_type": "markdown",
   "metadata": {},
   "source": [
    "# Self-Driving Car Engineer Nanodegree\n",
    "\n",
    "## Deep Learning\n",
    "\n",
    "## Project: Build a Traffic Sign Recognition Classifier\n",
    "\n",
    "In this notebook, a template is provided for you to implement your functionality in stages, which is required to successfully complete this project. If additional code is required that cannot be included in the notebook, be sure that the Python code is successfully imported and included in your submission if necessary. \n",
    "\n",
    "> **Note**: Once you have completed all of the code implementations, you need to finalize your work by exporting the iPython Notebook as an HTML document. Before exporting the notebook to html, all of the code cells need to have been run so that reviewers can see the final implementation and output. You can then export the notebook by using the menu above and navigating to  \\n\",\n",
    "    \"**File -> Download as -> HTML (.html)**. Include the finished document along with this notebook as your submission. \n",
    "\n",
    "In addition to implementing code, there is a writeup to complete. The writeup should be completed in a separate file, which can be either a markdown file or a pdf document. There is a [write up template](https://github.com/udacity/CarND-Traffic-Sign-Classifier-Project/blob/master/writeup_template.md) that can be used to guide the writing process. Completing the code template and writeup template will cover all of the [rubric points](https://review.udacity.com/#!/rubrics/481/view) for this project.\n",
    "\n",
    "The [rubric](https://review.udacity.com/#!/rubrics/481/view) contains \"Stand Out Suggestions\" for enhancing the project beyond the minimum requirements. The stand out suggestions are optional. If you decide to pursue the \"stand out suggestions\", you can include the code in this Ipython notebook and also discuss the results in the writeup file.\n",
    "\n",
    "\n",
    ">**Note:** Code and Markdown cells can be executed using the **Shift + Enter** keyboard shortcut. In addition, Markdown cells can be edited by typically double-clicking the cell to enter edit mode."
   ]
  },
  {
   "cell_type": "markdown",
   "metadata": {},
   "source": [
    "---\n",
    "## Step 0: Load The Data"
   ]
  },
  {
   "cell_type": "code",
   "execution_count": 1,
   "metadata": {},
   "outputs": [],
   "source": [
    "# Load pickled data\n",
    "import pickle\n",
    "import tensorflow as tf\n",
    "# TODO: Fill this in based on where you saved the training and testing data\n",
    "\n",
    "training_file = '../data/train.p'\n",
    "validation_file='../data/valid.p'\n",
    "testing_file = '../data/test.p'\n",
    "\n",
    "with open(training_file, mode='rb') as f:\n",
    "    train = pickle.load(f)\n",
    "with open(validation_file, mode='rb') as f:\n",
    "    valid = pickle.load(f)\n",
    "with open(testing_file, mode='rb') as f:\n",
    "    test = pickle.load(f)\n",
    "    \n",
    "X_train, y_train = train['features'], train['labels']\n",
    "X_valid, y_valid = valid['features'], valid['labels']\n",
    "X_test, y_test = test['features'], test['labels']"
   ]
  },
  {
   "cell_type": "code",
   "execution_count": null,
   "metadata": {},
   "outputs": [],
   "source": []
  },
  {
   "cell_type": "markdown",
   "metadata": {},
   "source": [
    "---\n",
    "\n",
    "## Step 1: Dataset Summary & Exploration\n",
    "\n",
    "The pickled data is a dictionary with 4 key/value pairs:\n",
    "\n",
    "- `'features'` is a 4D array containing raw pixel data of the traffic sign images, (num examples, width, height, channels).\n",
    "- `'labels'` is a 1D array containing the label/class id of the traffic sign. The file `signnames.csv` contains id -> name mappings for each id.\n",
    "- `'sizes'` is a list containing tuples, (width, height) representing the original width and height the image.\n",
    "- `'coords'` is a list containing tuples, (x1, y1, x2, y2) representing coordinates of a bounding box around the sign in the image. **THESE COORDINATES ASSUME THE ORIGINAL IMAGE. THE PICKLED DATA CONTAINS RESIZED VERSIONS (32 by 32) OF THESE IMAGES**\n",
    "\n",
    "Complete the basic data summary below. Use python, numpy and/or pandas methods to calculate the data summary rather than hard coding the results. For example, the [pandas shape method](http://pandas.pydata.org/pandas-docs/stable/generated/pandas.DataFrame.shape.html) might be useful for calculating some of the summary results. "
   ]
  },
  {
   "cell_type": "markdown",
   "metadata": {},
   "source": [
    "### Provide a Basic Summary of the Data Set Using Python, Numpy and/or Pandas"
   ]
  },
  {
   "cell_type": "code",
   "execution_count": 2,
   "metadata": {},
   "outputs": [
    {
     "name": "stdout",
     "output_type": "stream",
     "text": [
      "Number of training examples = 34799\n",
      "Number of testing examples = 12630\n",
      "Image data shape = (32, 32, 3)\n",
      "Number of classes = 43\n"
     ]
    }
   ],
   "source": [
    "### Replace each question mark with the appropriate value. \n",
    "### Use python, pandas or numpy methods rather than hard coding the results\n",
    "import numpy as np\n",
    "\n",
    "# TODO: Number of training examples\n",
    "n_train = len(X_train)\n",
    "\n",
    "# TODO: Number of validation examples\n",
    "n_validation = len(X_valid)\n",
    "\n",
    "# TODO: Number of testing examples.\n",
    "n_test = len(X_test)\n",
    "\n",
    "# TODO: What's the shape of an traffic sign image?\n",
    "image_shape = np.shape(X_train[0])\n",
    "\n",
    "# TODO: How many unique classes/labels there are in the dataset.\n",
    "n_classes = len(np.unique(y_train))\n",
    "\n",
    "print(\"Number of training examples =\", n_train)\n",
    "print(\"Number of testing examples =\", n_test)\n",
    "print(\"Image data shape =\", image_shape)\n",
    "print(\"Number of classes =\", n_classes)"
   ]
  },
  {
   "cell_type": "markdown",
   "metadata": {},
   "source": [
    "### Include an exploratory visualization of the dataset"
   ]
  },
  {
   "cell_type": "markdown",
   "metadata": {},
   "source": [
    "Visualize the German Traffic Signs Dataset using the pickled file(s). This is open ended, suggestions include: plotting traffic sign images, plotting the count of each sign, etc. \n",
    "\n",
    "The [Matplotlib](http://matplotlib.org/) [examples](http://matplotlib.org/examples/index.html) and [gallery](http://matplotlib.org/gallery.html) pages are a great resource for doing visualizations in Python.\n",
    "\n",
    "**NOTE:** It's recommended you start with something simple first. If you wish to do more, come back to it after you've completed the rest of the sections. It can be interesting to look at the distribution of classes in the training, validation and test set. Is the distribution the same? Are there more examples of some classes than others?"
   ]
  },
  {
   "cell_type": "code",
   "execution_count": 3,
   "metadata": {},
   "outputs": [
    {
     "data": {
      "text/plain": [
       "<matplotlib.legend.Legend at 0x7f3e602838d0>"
      ]
     },
     "execution_count": 3,
     "metadata": {},
     "output_type": "execute_result"
    },
    {
     "data": {
      "image/png": "[encoded data removed]",
      "text/plain": [
       "<matplotlib.figure.Figure at 0x7f3e60283978>"
      ]
     },
     "metadata": {},
     "output_type": "display_data"
    }
   ],
   "source": [
    "### Data exploration visualization code goes here.\n",
    "### Feel free to use as many code cells as needed.\n",
    "import matplotlib.pyplot as plt\n",
    "# Visualizations will be shown in the notebook.\n",
    "%matplotlib inline\n",
    "import seaborn as sns\n",
    "sns.set(color_codes=True)\n",
    "sns.set(rc={'figure.figsize':(20,15)})\n",
    "sns.distplot(y_train,kde =False, bins=n_classes,label='Train')\n",
    "sns.distplot(y_valid,kde =False, bins=n_classes,label='Validation')\n",
    "sns.distplot(y_test,kde =False, bins=n_classes,label='Test')\n",
    "plt.title('Distribution of Traffic signs')\n",
    "plt.legend()\n"
   ]
  },
  {
   "cell_type": "markdown",
   "metadata": {},
   "source": [
    "* Classes are not equally distributed\n",
    "* Train, Valid and test are ditributed proportionally according to their classes"
   ]
  },
  {
   "cell_type": "markdown",
   "metadata": {},
   "source": [
    "----\n",
    "\n",
    "## Step 2: Design and Test a Model Architecture\n",
    "\n",
    "Design and implement a deep learning model that learns to recognize traffic signs. Train and test your model on the [German Traffic Sign Dataset](http://benchmark.ini.rub.de/?section=gtsrb&subsection=dataset).\n",
    "\n",
    "The LeNet-5 implementation shown in the [classroom](https://classroom.udacity.com/nanodegrees/nd013/parts/fbf77062-5703-404e-b60c-95b78b2f3f9e/modules/6df7ae49-c61c-4bb2-a23e-6527e69209ec/lessons/601ae704-1035-4287-8b11-e2c2716217ad/concepts/d4aca031-508f-4e0b-b493-e7b706120f81) at the end of the CNN lesson is a solid starting point. You'll have to change the number of classes and possibly the preprocessing, but aside from that it's plug and play! \n",
    "\n",
    "With the LeNet-5 solution from the lecture, you should expect a validation set accuracy of about 0.89. To meet specifications, the validation set accuracy will need to be at least 0.93. It is possible to get an even higher accuracy, but 0.93 is the minimum for a successful project submission. \n",
    "\n",
    "There are various aspects to consider when thinking about this problem:\n",
    "\n",
    "- Neural network architecture (is the network over or underfitting?)\n",
    "- Play around preprocessing techniques (normalization, rgb to grayscale, etc)\n",
    "- Number of examples per label (some have more than others).\n",
    "- Generate fake data.\n",
    "\n",
    "Here is an example of a [published baseline model on this problem](http://yann.lecun.com/exdb/publis/pdf/sermanet-ijcnn-11.pdf). It's not required to be familiar with the approach used in the paper but, it's good practice to try to read papers like these."
   ]
  },
  {
   "cell_type": "markdown",
   "metadata": {},
   "source": [
    "### Pre-process the Data Set (normalization, grayscale, etc.)"
   ]
  },
  {
   "cell_type": "markdown",
   "metadata": {},
   "source": [
    "Minimally, the image data should be normalized so that the data has mean zero and equal variance. For image data, `(pixel - 128)/ 128` is a quick way to approximately normalize the data and can be used in this project. \n",
    "\n",
    "Other pre-processing steps are optional. You can try different techniques to see if it improves performance. \n",
    "\n",
    "Use the code cell (or multiple code cells, if necessary) to implement the first step of your project."
   ]
  },
  {
   "cell_type": "code",
   "execution_count": 4,
   "metadata": {},
   "outputs": [],
   "source": [
    "### Preprocess the data here. It is required to normalize the data. Other preprocessing steps could include \n",
    "### converting to grayscale, etc.\n",
    "### Feel free to use as many code cells as needed.\n",
    "from sklearn.utils import shuffle\n",
    "\n",
    "def normalize(image):\n",
    "    normalized = (image.astype(np.float32) - 128) / 128\n",
    "    return normalized\n",
    "\n",
    "X_train = normalize(X_train)\n",
    "X_train, y_train = shuffle(X_train, y_train)"
   ]
  },
  {
   "cell_type": "code",
   "execution_count": 5,
   "metadata": {},
   "outputs": [
    {
     "name": "stdout",
     "output_type": "stream",
     "text": [
      "(34799, 32, 32, 3)\n"
     ]
    }
   ],
   "source": [
    "\n",
    "print(X_train.shape)"
   ]
  },
  {
   "cell_type": "markdown",
   "metadata": {},
   "source": [
    "### Model Architecture"
   ]
  },
  {
   "cell_type": "code",
   "execution_count": 6,
   "metadata": {},
   "outputs": [],
   "source": [
    "### Define your architecture here.\n",
    "### Feel free to use as many code cells as needed.\n",
    "\n",
    "EPOCHS = 50\n",
    "BATCH_SIZE = 128"
   ]
  },
  {
   "cell_type": "code",
   "execution_count": 7,
   "metadata": {},
   "outputs": [],
   "source": [
    "from tensorflow.contrib.layers import flatten\n",
    "\n",
    "def LeNet(x):    \n",
    "    # Arguments used for tf.truncated_normal, randomly defines variables for the weights and biases for each layer\n",
    "    mu = 0\n",
    "    sigma = 0.1\n",
    "    \n",
    "    # Layer 1:\n",
    "    conv1_W= tf.Variable(tf.truncated_normal(shape=(5,5,3,6), mean=mu, stddev=sigma))\n",
    "    conv1_b= tf.Variable(tf.zeros(6))\n",
    "    conv1= tf.nn.conv2d(x,conv1_W,strides=[1,1,1,1],padding='VALID',use_cudnn_on_gpu=True) + conv1_b\n",
    "\n",
    "    # Activation.\n",
    "    conv1= tf.nn.relu(conv1)\n",
    "\n",
    "    # Layer 2:\n",
    "    conv3_W= tf.Variable(tf.truncated_normal(shape=(5,5,6,10), mean=mu, stddev=sigma))\n",
    "    conv3_b= tf.Variable(tf.zeros(10))\n",
    "    conv3= tf.nn.conv2d(conv1,conv3_W,strides=[1,2,2,1],padding='VALID',use_cudnn_on_gpu=True) + conv3_b\n",
    "\n",
    "    # Activation.\n",
    "    conv3= tf.nn.relu(conv3)\n",
    "\n",
    "    # Layer 3: \n",
    "    conv2_W= tf.Variable(tf.truncated_normal(shape=(5,5,10,16),mean=mu,stddev=sigma))\n",
    "    conv2_b=tf.Variable(tf.zeros(16))\n",
    "    conv2= tf.nn.conv2d(conv3,conv2_W,strides=[1,1,1,1],padding='VALID',use_cudnn_on_gpu=True) + conv2_b\n",
    "    \n",
    "    # Activation.\n",
    "    conv2= tf.nn.relu(conv2)\n",
    "\n",
    "    # Pooling. Input = 8x8x16. Output = 4x4x16.\n",
    "    conv2= tf.nn.max_pool(conv2,ksize=[1,2,2,1],strides=[1,2,2,1],padding='VALID')\n",
    "\n",
    "    # Flatten layer\n",
    "    f= flatten(conv2)\n",
    "\n",
    "    # Layer 4: Fully Connected.\n",
    "    fc1_W= tf.Variable(tf.truncated_normal(shape=(int(np.shape(f)[1]),120),mean=mu,stddev=sigma))\n",
    "    fc1_b= tf.Variable(tf.zeros(shape=120))\n",
    "    fc1= tf.matmul(f,fc1_W) + fc1_b\n",
    "    \n",
    "    # Activation.\n",
    "    fc1= tf.nn.relu(fc1)\n",
    "    \n",
    "    # Introduce Dropout after first fully connected layer\n",
    "    fc1 = tf.nn.dropout(fc1, keep_prob)\n",
    "\n",
    "    # Layer 5: Fully Connected.\n",
    "    fc2_W= tf.Variable(tf.truncated_normal(shape=(120,100),mean=mu,stddev=sigma))\n",
    "    fc2_b= tf.Variable(tf.zeros(100))\n",
    "    fc2= tf.matmul(fc1,fc2_W) + fc2_b\n",
    "    \n",
    "    # Activation.\n",
    "    fc2= tf.nn.relu(fc2)\n",
    "    \n",
    "    # Layer 6: Fully Connected.\n",
    "    fc4_W= tf.Variable(tf.truncated_normal(shape=(100,84),mean=mu,stddev=sigma))\n",
    "    fc4_b= tf.Variable(tf.zeros(84))\n",
    "    fc4= tf.matmul(fc2,fc4_W) + fc4_b\n",
    "    \n",
    "    # Activation.\n",
    "    fc4= tf.nn.relu(fc4)\n",
    "    \n",
    "    # Layer 7: Fully Connected. \n",
    "    fc3_W= tf.Variable(tf.truncated_normal(shape=(84,43),mean=mu,stddev=sigma))\n",
    "    fc3_b= tf.Variable(tf.zeros(43))\n",
    "    fc3= tf.matmul(fc4,fc3_W) + fc3_b\n",
    "    logits=fc3\n",
    "        \n",
    "    return logits"
   ]
  },
  {
   "cell_type": "code",
   "execution_count": 8,
   "metadata": {},
   "outputs": [],
   "source": [
    "x = tf.placeholder(tf.float32, (None, 32, 32, 3))\n",
    "y = tf.placeholder(tf.int32, (None))\n",
    "one_hot_y = tf.one_hot(y, 43) \n",
    "keep_prob = tf.placeholder(tf.float32)"
   ]
  },
  {
   "cell_type": "code",
   "execution_count": null,
   "metadata": {},
   "outputs": [],
   "source": []
  },
  {
   "cell_type": "code",
   "execution_count": null,
   "metadata": {},
   "outputs": [],
   "source": []
  },
  {
   "cell_type": "markdown",
   "metadata": {},
   "source": [
    "### Train, Validate and Test the Model"
   ]
  },
  {
   "cell_type": "markdown",
   "metadata": {},
   "source": [
    "A validation set can be used to assess how well the model is performing. A low accuracy on the training and validation\n",
    "sets imply underfitting. A high accuracy on the training set but low accuracy on the validation set implies overfitting."
   ]
  },
  {
   "cell_type": "code",
   "execution_count": 9,
   "metadata": {},
   "outputs": [],
   "source": [
    "### Train your model here.\n",
    "### Calculate and report the accuracy on the training and validation set.\n",
    "### Once a final model architecture is selected, \n",
    "### the accuracy on the test set should be calculated and reported as well.\n",
    "### Feel free to use as many code cells as needed."
   ]
  },
  {
   "cell_type": "code",
   "execution_count": 10,
   "metadata": {},
   "outputs": [],
   "source": [
    "\n",
    "rate = 0.0009 #learning rate\n",
    "\n",
    "logits = LeNet(x) \n",
    "cross_entropy = tf.nn.softmax_cross_entropy_with_logits(labels=one_hot_y, logits=logits)\n",
    "loss_operation = tf.reduce_mean(cross_entropy)\n",
    "optimizer = tf.train.AdamOptimizer(learning_rate = rate)\n",
    "training_operation = optimizer.minimize(loss_operation)"
   ]
  },
  {
   "cell_type": "code",
   "execution_count": 11,
   "metadata": {},
   "outputs": [],
   "source": [
    "correct_prediction = tf.equal(tf.argmax(logits, 1), tf.argmax(one_hot_y, 1))\n",
    "accuracy_operation = tf.reduce_mean(tf.cast(correct_prediction, tf.float32))\n",
    "saver = tf.train.Saver()\n",
    "\n",
    "def evaluate(X_data, y_data):\n",
    "    num_examples = len(X_data)\n",
    "    total_accuracy = 0\n",
    "    total_loss=0\n",
    "    sess = tf.get_default_session()\n",
    "    for offset in range(0, num_examples, BATCH_SIZE):\n",
    "        batch_x, batch_y = X_data[offset:offset+BATCH_SIZE], y_data[offset:offset+BATCH_SIZE]\n",
    "        accuracy,loss = sess.run([accuracy_operation,loss_operation],feed_dict={x: batch_x, y: batch_y,keep_prob:1})\n",
    "        total_accuracy += (accuracy * len(batch_x))\n",
    "        total_loss+= (loss*len(batch_x))\n",
    "    return total_accuracy / num_examples, total_loss/num_examples"
   ]
  },
  {
   "cell_type": "code",
   "execution_count": 12,
   "metadata": {},
   "outputs": [
    {
     "name": "stdout",
     "output_type": "stream",
     "text": [
      "Training...\n",
      "\n",
      "EPOCH 1 ...\n",
      "Validation Accuracy = 0.650\n",
      "\n",
      "EPOCH 2 ...\n",
      "Validation Accuracy = 0.793\n",
      "\n",
      "EPOCH 3 ...\n",
      "Validation Accuracy = 0.846\n",
      "\n",
      "EPOCH 4 ...\n",
      "Validation Accuracy = 0.889\n",
      "\n",
      "EPOCH 5 ...\n",
      "Validation Accuracy = 0.877\n",
      "\n",
      "EPOCH 6 ...\n",
      "Validation Accuracy = 0.900\n",
      "\n",
      "EPOCH 7 ...\n",
      "Validation Accuracy = 0.906\n",
      "\n",
      "EPOCH 8 ...\n",
      "Validation Accuracy = 0.915\n",
      "\n",
      "EPOCH 9 ...\n",
      "Validation Accuracy = 0.919\n",
      "\n",
      "EPOCH 10 ...\n",
      "Validation Accuracy = 0.924\n",
      "\n",
      "EPOCH 11 ...\n",
      "Validation Accuracy = 0.911\n",
      "\n",
      "EPOCH 12 ...\n",
      "Validation Accuracy = 0.929\n",
      "\n",
      "EPOCH 13 ...\n",
      "Validation Accuracy = 0.924\n",
      "\n",
      "EPOCH 14 ...\n",
      "Validation Accuracy = 0.906\n",
      "\n",
      "EPOCH 15 ...\n",
      "Validation Accuracy = 0.920\n",
      "\n",
      "EPOCH 16 ...\n",
      "Validation Accuracy = 0.927\n",
      "\n",
      "EPOCH 17 ...\n",
      "Validation Accuracy = 0.919\n",
      "\n",
      "EPOCH 18 ...\n",
      "Validation Accuracy = 0.938\n",
      "\n",
      "EPOCH 19 ...\n",
      "Validation Accuracy = 0.921\n",
      "\n",
      "EPOCH 20 ...\n",
      "Validation Accuracy = 0.928\n",
      "\n",
      "EPOCH 21 ...\n",
      "Validation Accuracy = 0.940\n",
      "\n",
      "EPOCH 22 ...\n",
      "Validation Accuracy = 0.927\n",
      "\n",
      "EPOCH 23 ...\n",
      "Validation Accuracy = 0.911\n",
      "\n",
      "EPOCH 24 ...\n",
      "Validation Accuracy = 0.939\n",
      "\n",
      "EPOCH 25 ...\n",
      "Validation Accuracy = 0.935\n",
      "\n",
      "EPOCH 26 ...\n",
      "Validation Accuracy = 0.941\n",
      "\n",
      "EPOCH 27 ...\n",
      "Validation Accuracy = 0.925\n",
      "\n",
      "EPOCH 28 ...\n",
      "Validation Accuracy = 0.929\n",
      "\n",
      "EPOCH 29 ...\n",
      "Validation Accuracy = 0.951\n",
      "\n",
      "EPOCH 30 ...\n",
      "Validation Accuracy = 0.947\n",
      "\n",
      "EPOCH 31 ...\n",
      "Validation Accuracy = 0.924\n",
      "\n",
      "EPOCH 32 ...\n",
      "Validation Accuracy = 0.950\n",
      "\n",
      "EPOCH 33 ...\n",
      "Validation Accuracy = 0.944\n",
      "\n",
      "EPOCH 34 ...\n",
      "Validation Accuracy = 0.936\n",
      "\n",
      "EPOCH 35 ...\n",
      "Validation Accuracy = 0.949\n",
      "\n",
      "EPOCH 36 ...\n",
      "Validation Accuracy = 0.939\n",
      "\n",
      "EPOCH 37 ...\n",
      "Validation Accuracy = 0.944\n",
      "\n",
      "EPOCH 38 ...\n",
      "Validation Accuracy = 0.945\n",
      "\n",
      "EPOCH 39 ...\n",
      "Validation Accuracy = 0.938\n",
      "\n",
      "EPOCH 40 ...\n",
      "Validation Accuracy = 0.944\n",
      "\n",
      "EPOCH 41 ...\n",
      "Validation Accuracy = 0.929\n",
      "\n",
      "EPOCH 42 ...\n",
      "Validation Accuracy = 0.944\n",
      "\n",
      "EPOCH 43 ...\n",
      "Validation Accuracy = 0.937\n",
      "\n",
      "EPOCH 44 ...\n",
      "Validation Accuracy = 0.954\n",
      "\n",
      "EPOCH 45 ...\n",
      "Validation Accuracy = 0.940\n",
      "\n",
      "EPOCH 46 ...\n",
      "Validation Accuracy = 0.930\n",
      "\n",
      "EPOCH 47 ...\n",
      "Validation Accuracy = 0.933\n",
      "\n",
      "EPOCH 48 ...\n",
      "Validation Accuracy = 0.947\n",
      "\n",
      "EPOCH 49 ...\n",
      "Validation Accuracy = 0.941\n",
      "\n",
      "EPOCH 50 ...\n",
      "Validation Accuracy = 0.948\n",
      "\n",
      "Model saved\n"
     ]
    }
   ],
   "source": [
    "\n",
    "with tf.Session() as sess:\n",
    "    sess.run(tf.global_variables_initializer())\n",
    "    num_examples = len(X_train)\n",
    "    \n",
    "    print(\"Training...\")\n",
    "    print()\n",
    "    loss_Acc=[]\n",
    "    for i in range(EPOCHS):\n",
    "        X_train, y_train = shuffle(X_train, y_train)\n",
    "        for offset in range(0, num_examples, BATCH_SIZE):\n",
    "            end = offset + BATCH_SIZE\n",
    "            batch_x, batch_y = X_train[offset:end], y_train[offset:end]\n",
    "            sess.run(training_operation, feed_dict={x: batch_x, y: batch_y,keep_prob:0.5})\n",
    "            \n",
    "        validation_accuracy,loss_acc = evaluate(X_valid, y_valid)\n",
    "        loss_Acc.append(loss_acc)\n",
    "        print(\"EPOCH {} ...\".format(i+1))\n",
    "        print(\"Validation Accuracy = {:.3f}\".format(validation_accuracy))\n",
    "        print()\n",
    "    saver.save(sess, './trafficTest')\n",
    "    print(\"Model saved\")"
   ]
  },
  {
   "cell_type": "markdown",
   "metadata": {},
   "source": [
    "## Test accuracy"
   ]
  },
  {
   "cell_type": "code",
   "execution_count": 13,
   "metadata": {},
   "outputs": [
    {
     "name": "stdout",
     "output_type": "stream",
     "text": [
      "INFO:tensorflow:Restoring parameters from ./trafficTest\n",
      "Test Accuracy = 0.921\n"
     ]
    }
   ],
   "source": [
    "with tf.Session() as sess:\n",
    "    saver.restore(sess, tf.train.latest_checkpoint('.'))\n",
    "\n",
    "    test_accuracy,loss_acc = evaluate(X_test, y_test)\n",
    "    print(\"Test Accuracy = {:.3f}\".format(test_accuracy))"
   ]
  },
  {
   "cell_type": "markdown",
   "metadata": {},
   "source": [
    "---\n",
    "\n",
    "## Step 3: Test a Model on New Images\n",
    "\n",
    "To give yourself more insight into how your model is working, download at least five pictures of German traffic signs from the web and use your model to predict the traffic sign type.\n",
    "\n",
    "You may find `signnames.csv` useful as it contains mappings from the class id (integer) to the actual sign name."
   ]
  },
  {
   "cell_type": "markdown",
   "metadata": {},
   "source": [
    "### Load and Output the Images"
   ]
  },
  {
   "cell_type": "code",
   "execution_count": 45,
   "metadata": {},
   "outputs": [
    {
     "data": {
      "image/png": "[encoded data removed]",
      "text/plain": [
       "<matplotlib.figure.Figure at 0x7f3d289ecf98>"
      ]
     },
     "metadata": {
      "needs_background": "light"
     },
     "output_type": "display_data"
    }
   ],
   "source": [
    "### Load the images and plot them here.\n",
    "### Feel free to use as many code cells as needed.\n",
    "\n",
    "\n",
    "import cv2\n",
    "import glob\n",
    "import matplotlib.image as mpimg\n",
    "\n",
    "fig, axs = plt.subplots(1,5, figsize=(10, 1))\n",
    "fig.subplots_adjust(hspace = .2, wspace=.1)\n",
    "axs = axs.ravel()\n",
    "my_images = []\n",
    "\n",
    "# displaying all 10 images \n",
    "for i, img in enumerate(glob.glob('./test_images/*.jpg')):\n",
    "    image = cv2.imread(img)\n",
    "    axs[i].axis('off')\n",
    "    axs[i].imshow(cv2.cvtColor(image, cv2.COLOR_BGR2RGB))    \n",
    "    image = cv2.cvtColor(image, cv2.COLOR_BGR2RGB)\n",
    "    image = cv2.resize(image,(32,32))\n",
    "    my_images.append(image)"
   ]
  },
  {
   "cell_type": "code",
   "execution_count": 46,
   "metadata": {},
   "outputs": [
    {
     "name": "stdout",
     "output_type": "stream",
     "text": [
      "['2', '17', '14', '25', '22']\n"
     ]
    }
   ],
   "source": [
    "import os\n",
    "names = [os.path.basename(x).split('.')[0] for x in glob.glob('./test_images/*.jpg')]\n",
    "print(names)"
   ]
  },
  {
   "cell_type": "markdown",
   "metadata": {},
   "source": [
    "### Predict the Sign Type for Each Image and Analyze Performance"
   ]
  },
  {
   "cell_type": "code",
   "execution_count": 47,
   "metadata": {},
   "outputs": [
    {
     "name": "stdout",
     "output_type": "stream",
     "text": [
      "INFO:tensorflow:Restoring parameters from ./trafficTest\n",
      "Test Accuracy for downloaded Images = 0.800\n"
     ]
    }
   ],
   "source": [
    "### Run the predictions here and use the model to output the prediction for each image.\n",
    "### Make sure to pre-process the images with the same pre-processing pipeline used earlier.\n",
    "### Feel free to use as many code cells as needed.\n",
    "\n",
    "#preprocessing data\n",
    "my_images = np.asarray(my_images)\n",
    "my_images = normalize(my_images)\n",
    "\n",
    "my_labels = [2, 17, 14, 25, 22]\n",
    "\n",
    "with tf.Session() as sess:\n",
    "    saver.restore(sess, tf.train.latest_checkpoint('.'))\n",
    "    output_accuracy,loss_acc = evaluate(my_images, my_labels)\n",
    "    print(\"Test Accuracy for downloaded Images = {:.3f}\".format(output_accuracy))"
   ]
  },
  {
   "cell_type": "markdown",
   "metadata": {},
   "source": [
    "### Output Top 5 Softmax Probabilities For Each Image Found on the Web"
   ]
  },
  {
   "cell_type": "markdown",
   "metadata": {},
   "source": [
    "For each of the new images, print out the model's softmax probabilities to show the **certainty** of the model's predictions (limit the output to the top 5 probabilities for each image). [`tf.nn.top_k`](https://www.tensorflow.org/versions/r0.12/api_docs/python/nn.html#top_k) could prove helpful here. \n",
    "\n",
    "The example below demonstrates how tf.nn.top_k can be used to find the top k predictions for each image.\n",
    "\n",
    "`tf.nn.top_k` will return the values and indices (class ids) of the top k predictions. So if k=3, for each sign, it'll return the 3 largest probabilities (out of a possible 43) and the correspoding class ids.\n",
    "\n",
    "Take this numpy array as an example. The values in the array represent predictions. The array contains softmax probabilities for five candidate images with six possible classes. `tf.nn.top_k` is used to choose the three classes with the highest probability:\n",
    "\n",
    "```\n",
    "# (5, 6) array\n",
    "a = np.array([[ 0.24879643,  0.07032244,  0.12641572,  0.34763842,  0.07893497,\n",
    "         0.12789202],\n",
    "       [ 0.28086119,  0.27569815,  0.08594638,  0.0178669 ,  0.18063401,\n",
    "         0.15899337],\n",
    "       [ 0.26076848,  0.23664738,  0.08020603,  0.07001922,  0.1134371 ,\n",
    "         0.23892179],\n",
    "       [ 0.11943333,  0.29198961,  0.02605103,  0.26234032,  0.1351348 ,\n",
    "         0.16505091],\n",
    "       [ 0.09561176,  0.34396535,  0.0643941 ,  0.16240774,  0.24206137,\n",
    "         0.09155967]])\n",
    "```\n",
    "\n",
    "Running it through `sess.run(tf.nn.top_k(tf.constant(a), k=3))` produces:\n",
    "\n",
    "```\n",
    "TopKV2(values=array([[ 0.34763842,  0.24879643,  0.12789202],\n",
    "       [ 0.28086119,  0.27569815,  0.18063401],\n",
    "       [ 0.26076848,  0.23892179,  0.23664738],\n",
    "       [ 0.29198961,  0.26234032,  0.16505091],\n",
    "       [ 0.34396535,  0.24206137,  0.16240774]]), indices=array([[3, 0, 5],\n",
    "       [0, 1, 4],\n",
    "       [0, 5, 1],\n",
    "       [1, 3, 5],\n",
    "       [1, 4, 3]], dtype=int32))\n",
    "```\n",
    "\n",
    "Looking just at the first row we get `[ 0.34763842,  0.24879643,  0.12789202]`, you can confirm these are the 3 largest probabilities in `a`. You'll also notice `[3, 0, 5]` are the corresponding indices."
   ]
  },
  {
   "cell_type": "code",
   "execution_count": 48,
   "metadata": {},
   "outputs": [
    {
     "name": "stdout",
     "output_type": "stream",
     "text": [
      "INFO:tensorflow:Restoring parameters from ./trafficTest\n",
      "[[  8.04208436e-11   1.00000000e+00   1.29942113e-19   2.91042264e-30\n",
      "    6.50634162e-20   4.32445462e-24   3.23376731e-17   3.72693193e-24\n",
      "    4.78864762e-26   2.66321685e-29   5.80077942e-29   8.06084819e-19\n",
      "    1.95157714e-12   1.28622264e-21   1.29864635e-14   9.32362745e-37\n",
      "    4.33008568e-38   9.52415964e-19   1.20502338e-18   1.20025918e-29\n",
      "    4.21635993e-23   1.61375559e-17   6.97163659e-35   2.47230795e-21\n",
      "    4.06621219e-26   1.78886406e-23   1.16076653e-18   5.57628232e-35\n",
      "    1.13924239e-30   5.09812414e-21   4.14446004e-14   2.92014146e-08\n",
      "    1.36416606e-22   2.38482339e-23   1.04200352e-30   1.39851168e-20\n",
      "    1.31849712e-31   2.21726528e-18   6.83748156e-17   7.47293800e-29\n",
      "    2.09966142e-10   3.53472794e-26   1.18287646e-31]\n",
      " [  2.98187010e-18   1.29040451e-29   0.00000000e+00   2.15124043e-30\n",
      "    7.91011773e-36   0.00000000e+00   2.82979387e-36   0.00000000e+00\n",
      "    6.22242567e-29   3.15969262e-22   2.17205647e-27   6.68092967e-31\n",
      "    2.14042616e-31   6.48265191e-29   5.49812930e-20   0.00000000e+00\n",
      "    0.00000000e+00   1.00000000e+00   4.84233436e-29   7.30348186e-35\n",
      "    4.30440622e-25   3.83148343e-34   6.30134329e-23   2.46521762e-20\n",
      "    0.00000000e+00   0.00000000e+00   1.91724557e-24   0.00000000e+00\n",
      "    1.49987268e-30   6.79409572e-22   2.00295691e-25   3.01362523e-26\n",
      "    1.51858192e-32   2.13356679e-34   8.12640780e-31   2.30085651e-32\n",
      "    3.66527128e-34   3.85344084e-34   8.49016424e-30   0.00000000e+00\n",
      "    5.39289659e-35   3.25558779e-25   4.56587117e-35]\n",
      " [  1.03005582e-09   4.80346702e-04   1.56871405e-08   7.90593013e-09\n",
      "    3.91850831e-12   3.83481198e-11   2.26519328e-14   2.85087281e-18\n",
      "    2.55602288e-14   4.37079673e-15   8.10489352e-16   1.41728119e-14\n",
      "    1.65480466e-12   1.21456611e-09   9.99519706e-01   4.05858319e-10\n",
      "    7.11164969e-24   4.99396544e-16   1.81453688e-13   2.60208554e-17\n",
      "    8.69444777e-17   3.30281397e-15   2.02761862e-18   1.69270477e-18\n",
      "    6.40518415e-18   1.11502795e-11   7.01925294e-14   9.08125664e-20\n",
      "    4.17695769e-18   4.34718484e-15   3.53077277e-15   3.31925742e-16\n",
      "    1.96339819e-12   9.40165676e-17   6.77857555e-19   2.80698468e-18\n",
      "    7.85857719e-19   5.46907042e-22   4.95275956e-12   1.00960645e-21\n",
      "    1.72607065e-18   2.76608204e-18   1.09008744e-23]\n",
      " [  2.88027630e-26   1.33116289e-22   6.48294862e-29   1.49563586e-19\n",
      "    2.86250679e-28   1.30919001e-16   7.75097994e-26   6.12193928e-36\n",
      "    1.39401969e-30   3.20606187e-29   8.71608100e-28   9.06180626e-20\n",
      "    2.45031981e-20   1.46179491e-23   2.76907761e-27   1.24842169e-26\n",
      "    3.13924054e-32   2.48326796e-32   3.22583677e-22   4.51983496e-24\n",
      "    5.56623636e-14   4.69259933e-29   3.78963996e-16   3.30565777e-25\n",
      "    4.82673337e-21   1.00000000e+00   3.96390039e-21   2.05891343e-17\n",
      "    2.31984548e-20   3.26331505e-14   3.31690464e-22   6.29795111e-24\n",
      "    4.66293364e-25   1.79339788e-19   9.88108079e-24   1.65158203e-19\n",
      "    4.67310788e-15   4.49785118e-25   2.55233325e-15   2.47463843e-21\n",
      "    9.07925654e-25   2.78704783e-29   0.00000000e+00]\n",
      " [  3.01076235e-14   3.06072355e-11   9.92232436e-15   3.89064560e-14\n",
      "    2.17013185e-09   2.45492456e-13   7.61182695e-24   9.81647989e-18\n",
      "    8.57007000e-12   1.78353096e-11   4.79867587e-21   2.14121368e-18\n",
      "    7.76960893e-14   7.18217985e-10   3.92940992e-11   2.52082755e-09\n",
      "    1.36096729e-23   5.25145824e-14   2.82694868e-09   3.11531995e-16\n",
      "    1.99124432e-11   1.59805306e-17   9.97758389e-01   5.68788582e-20\n",
      "    6.04283215e-15   1.80400153e-10   2.24078866e-03   2.10865464e-16\n",
      "    8.58628793e-11   8.01595036e-07   3.63268542e-17   5.44277220e-16\n",
      "    3.28517510e-18   7.36316216e-11   1.66657248e-20   5.82024527e-14\n",
      "    1.06198314e-14   1.95658224e-14   5.39907694e-16   7.29754079e-09\n",
      "    5.70204758e-21   4.18210759e-23   2.45326729e-32]]\n",
      "TopKV2(values=array([[  1.00000000e+00,   2.92014146e-08,   2.09966142e-10,\n",
      "          8.04208436e-11,   1.95157714e-12],\n",
      "       [  1.00000000e+00,   2.98187010e-18,   5.49812930e-20,\n",
      "          2.46521762e-20,   6.79409572e-22],\n",
      "       [  9.99519706e-01,   4.80346702e-04,   1.56871405e-08,\n",
      "          7.90593013e-09,   1.21456611e-09],\n",
      "       [  1.00000000e+00,   5.56623636e-14,   3.26331505e-14,\n",
      "          4.67310788e-15,   2.55233325e-15],\n",
      "       [  9.97758389e-01,   2.24078866e-03,   8.01595036e-07,\n",
      "          7.29754079e-09,   2.82694868e-09]], dtype=float32), indices=array([[ 1, 31, 40,  0, 12],\n",
      "       [17,  0, 14, 23, 29],\n",
      "       [14,  1,  2,  3, 13],\n",
      "       [25, 20, 29, 36, 38],\n",
      "       [22, 26, 29, 39, 18]], dtype=int32))\n"
     ]
    }
   ],
   "source": [
    "### Print out the top five softmax probabilities for the predictions on the German traffic sign images found on the web. \n",
    "### Feel free to use as many code cells as needed.\n",
    "softmax_logits = tf.nn.softmax(logits)\n",
    "top_k = tf.nn.top_k(softmax_logits, k=5)\n",
    "\n",
    "\n",
    "with tf.Session() as sess:\n",
    "    sess.run(tf.global_variables_initializer())\n",
    "    saver.restore(sess, tf.train.latest_checkpoint('.'))\n",
    "    my_softmax_logits = sess.run(softmax_logits, feed_dict={x: my_images, keep_prob: 1.0})\n",
    "    my_top_k = sess.run(top_k, feed_dict={x: my_images, keep_prob: 1.0})\n",
    "    print(my_softmax_logits)\n",
    "    print(my_top_k)"
   ]
  },
  {
   "cell_type": "markdown",
   "metadata": {},
   "source": [
    "### Project Writeup\n",
    "\n",
    "Once you have completed the code implementation, document your results in a project writeup using this [template](https://github.com/udacity/CarND-Traffic-Sign-Classifier-Project/blob/master/writeup_template.md) as a guide. The writeup can be in a markdown or pdf file. "
   ]
  },
  {
   "cell_type": "markdown",
   "metadata": {},
   "source": [
    "> **Note**: Once you have completed all of the code implementations and successfully answered each question above, you may finalize your work by exporting the iPython Notebook as an HTML document. You can do this by using the menu above and navigating to  \\n\",\n",
    "    \"**File -> Download as -> HTML (.html)**. Include the finished document along with this notebook as your submission."
   ]
  },
  {
   "cell_type": "markdown",
   "metadata": {},
   "source": [
    "---\n",
    "\n",
    "## Step 4 (Optional): Visualize the Neural Network's State with Test Images\n",
    "\n",
    " This Section is not required to complete but acts as an additional excersise for understaning the output of a neural network's weights. While neural networks can be a great learning device they are often referred to as a black box. We can understand what the weights of a neural network look like better by plotting their feature maps. After successfully training your neural network you can see what it's feature maps look like by plotting the output of the network's weight layers in response to a test stimuli image. From these plotted feature maps, it's possible to see what characteristics of an image the network finds interesting. For a sign, maybe the inner network feature maps react with high activation to the sign's boundary outline or to the contrast in the sign's painted symbol.\n",
    "\n",
    " Provided for you below is the function code that allows you to get the visualization output of any tensorflow weight layer you want. The inputs to the function should be a stimuli image, one used during training or a new one you provided, and then the tensorflow variable name that represents the layer's state during the training process, for instance if you wanted to see what the [LeNet lab's](https://classroom.udacity.com/nanodegrees/nd013/parts/fbf77062-5703-404e-b60c-95b78b2f3f9e/modules/6df7ae49-c61c-4bb2-a23e-6527e69209ec/lessons/601ae704-1035-4287-8b11-e2c2716217ad/concepts/d4aca031-508f-4e0b-b493-e7b706120f81) feature maps looked like for it's second convolutional layer you could enter conv2 as the tf_activation variable.\n",
    "\n",
    "For an example of what feature map outputs look like, check out NVIDIA's results in their paper [End-to-End Deep Learning for Self-Driving Cars](https://devblogs.nvidia.com/parallelforall/deep-learning-self-driving-cars/) in the section Visualization of internal CNN State. NVIDIA was able to show that their network's inner weights had high activations to road boundary lines by comparing feature maps from an image with a clear path to one without. Try experimenting with a similar test to show that your trained network's weights are looking for interesting features, whether it's looking at differences in feature maps from images with or without a sign, or even what feature maps look like in a trained network vs a completely untrained one on the same sign image.\n",
    "\n",
    "<figure>\n",
    " <img src=\"visualize_cnn.png\" width=\"380\" alt=\"Combined Image\" />\n",
    " <figcaption>\n",
    " <p></p> \n",
    " <p style=\"text-align: center;\"> Your output should look something like this (above)</p> \n",
    " </figcaption>\n",
    "</figure>\n",
    " <p></p> \n"
   ]
  },
  {
   "cell_type": "code",
   "execution_count": 18,
   "metadata": {},
   "outputs": [],
   "source": [
    "### Visualize your network's feature maps here.\n",
    "### Feel free to use as many code cells as needed.\n",
    "\n",
    "# image_input: the test image being fed into the network to produce the feature maps\n",
    "# tf_activation: should be a tf variable name used during your training procedure that represents the calculated state of a specific weight layer\n",
    "# activation_min/max: can be used to view the activation contrast in more detail, by default matplot sets min and max to the actual min and max values of the output\n",
    "# plt_num: used to plot out multiple different weight feature map sets on the same block, just extend the plt number for each new feature map entry\n",
    "\n",
    "def outputFeatureMap(image_input, tf_activation, activation_min=-1, activation_max=-1 ,plt_num=1):\n",
    "    # Here make sure to preprocess your image_input in a way your network expects\n",
    "    # with size, normalization, ect if needed\n",
    "    # image_input =\n",
    "    # Note: x should be the same name as your network's tensorflow data placeholder variable\n",
    "    # If you get an error tf_activation is not defined it may be having trouble accessing the variable from inside a function\n",
    "    activation = tf_activation.eval(session=sess,feed_dict={x : image_input})\n",
    "    featuremaps = activation.shape[3]\n",
    "    plt.figure(plt_num, figsize=(15,15))\n",
    "    for featuremap in range(featuremaps):\n",
    "        plt.subplot(6,8, featuremap+1) # sets the number of feature maps to show on each row and column\n",
    "        plt.title('FeatureMap ' + str(featuremap)) # displays the feature map number\n",
    "        if activation_min != -1 & activation_max != -1:\n",
    "            plt.imshow(activation[0,:,:, featuremap], interpolation=\"nearest\", vmin =activation_min, vmax=activation_max, cmap=\"gray\")\n",
    "        elif activation_max != -1:\n",
    "            plt.imshow(activation[0,:,:, featuremap], interpolation=\"nearest\", vmax=activation_max, cmap=\"gray\")\n",
    "        elif activation_min !=-1:\n",
    "            plt.imshow(activation[0,:,:, featuremap], interpolation=\"nearest\", vmin=activation_min, cmap=\"gray\")\n",
    "        else:\n",
    "            plt.imshow(activation[0,:,:, featuremap], interpolation=\"nearest\", cmap=\"gray\")"
   ]
  },
  {
   "cell_type": "code",
   "execution_count": null,
   "metadata": {},
   "outputs": [],
   "source": []
  }
 ],
 "metadata": {
  "anaconda-cloud": {},
  "kernelspec": {
   "display_name": "Python 3",
   "language": "python",
   "name": "python3"
  },
  "language_info": {
   "codemirror_mode": {
    "name": "ipython",
    "version": 3
   },
   "file_extension": ".py",
   "mimetype": "text/x-python",
   "name": "python",
   "nbconvert_exporter": "python",
   "pygments_lexer": "ipython3",
   "version": "3.6.3"
  }
 },
 "nbformat": 4,
 "nbformat_minor": 1
}
